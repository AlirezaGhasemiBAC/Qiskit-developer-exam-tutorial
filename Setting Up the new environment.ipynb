{
 "cells": [
  {
   "cell_type": "markdown",
   "id": "b4963eb8",
   "metadata": {},
   "source": [
    "## <font color=Salmon> Setting Up Environment <font> \n",
    "    \n",
    "### <font color=Khaki> 1) Installing Anaconda <font>\n",
    "    \n",
    "The first step to prepare the environment to learn quantum computing is to install python or a distribution that not only contains python but also other common and useful packages. One of the common distributions is Anaconda. The first step is to install the Anaconda. you can use the following link to find the instruction of how to install Anaconda based on the operating system of your computer.\n",
    "    \n",
    " [Anaconda](https://docs.anaconda.com/anaconda/install/index.html)\n",
    " \n",
    "    \n",
    " ### <font color=Khaki> 2) IDE <font>\n",
    "    \n",
    " \n",
    " The next step is to choose a IDE (Integrated Development Environment). Common IDEs for our use are  Jupyter notebook, Visual Studio Code. The choice of IDE is based on your preferences, and specially at the beginning it should not be a big concern for you. As you improve in the process, you become more adventorous and will try different IDEs until you find the \"one\" for your workflow.\n",
    "\n",
    "We will continue with Jupyter notebook, as it will be installed whern you are using Anaconda and it does not need further steps.\n",
    "    \n",
    "\n",
    "    \n",
    " \n",
    " "
   ]
  },
  {
   "cell_type": "markdown",
   "id": "6a1d104d",
   "metadata": {},
   "source": [
    "### <font color=Khaki> 3) Setting Up Environment: <font>\n",
    "    \n",
    "If you are new to programming, this is the step that you can skip for now. But in the video(Add the link to the video), we go over when you need this and how it can be a helpfull and a good habit to not mix too many packages with different versions together."
   ]
  },
  {
   "cell_type": "markdown",
   "id": "c160cd30",
   "metadata": {},
   "source": [
    "Using Conda you can create Environments that in future will help you with package management.\n",
    "Clicking on the link below will help you with the instruction\n",
    "\n",
    "[Managing Environment](https://conda.io/projects/conda/en/latest/user-guide/tasks/manage-environments.html)\n",
    "\n",
    "The first step is to open anaconda prompt (for wiindows) or Terminal (for Linux and MacOS). "
   ]
  },
  {
   "cell_type": "markdown",
   "id": "c6f21803",
   "metadata": {},
   "source": [
    "After opening the Terminal/Anaconda propmt, you can use the following line\\\n",
    "to make an environemnt  \n",
    "<font color='pink'> conda create --name myenv <font>\n",
    "\n",
    " Here myenv is the name environment and you can replace it by the name you want <\n",
    "    \n",
    "Clever naming helps to remember why you created each environment\n",
    "    \n",
    "<font color='silver'> After using the aforementioned line, conda will asks you \n",
    "\"Proceed ([y]/n)?\"<font>\n",
    "    \n",
    "<font color='darkseagreen'> Print y when you saw that message.<font>\n",
    "    \n",
    "That question is being asked to confirm the directory of the environment.\n",
    "\n",
    "if you to want to create an environment with specific version of Python you can use the\\\n",
    "following line.\n",
    "    \n",
    "<font color='darkseagreen'> here we are making an environment with Python3.8 version. <font>\n",
    "\n",
    "<font color='pink'> conda create -n myenv python=3.8<font>\n",
    "\n",
    "After making the environment you need to activate \n",
    "\n",
    "In Terminal:\n",
    "\n",
    "<font color='pink'> conda activate myenv<font>\n",
    "    \n",
    "In anaconda Prompt:\n",
    "    \n",
    "<font color='pink'> activate myenv<font>\n",
    "\n",
    "Everytime that you open the terminal/anaconda prompt by default you will be in the \"base\" \\\n",
    "environment. To get to the the environment you need, you have to activate the environment/\n",
    "everytime.\n",
    "\n",
    "\n",
    "Intalling pip:\n",
    "\n",
    "For installation of pip you can refer to the following link:\n",
    "\n",
    "[pip documentation](https://pip.pypa.io/en/stable/installation.html)\n"
   ]
  },
  {
   "cell_type": "markdown",
   "id": "3a621398",
   "metadata": {},
   "source": [
    "Now that we have made the environment, let's [install Qiskit](https://qiskit.org/documentation/getting_started.html) in the environment. \n",
    "\n",
    "You can do it either in terminal/anaconda prompt using:\n",
    "\n",
    "<font color='pink'> pip install qiskit <font>\n",
    " \n",
    "Or you can do it in your jupyter notebook using \n",
    "    \n",
    "<font color='pink'> !pip install qiskit <font>\n",
    "\n",
    "* I noticed it works in jupyter notebook whether you have \"!\" or not.\n",
    "    \n",
    "if you are planning to use visualization functionality or Jupyter notebooks it is recommended to install Qiskit with extra <font color='teal'>visualization</font> support:\n",
    "    \n",
    "<font color='pink'> pip install qiskit[visualization] <font>\n",
    "    \n",
    "if you confronted a problem in installing the qiskit[visualization] try to use the same line but have qiskit[visualizaiton in coatation.\n",
    "\n",
    "<font color='pink'> pip install 'qiskit[visualization]' <font>\n",
    "    \n",
    "let's try to install it in our jupyter notebook"
   ]
  },
  {
   "cell_type": "code",
   "execution_count": 1,
   "id": "09459ac4",
   "metadata": {},
   "outputs": [
    {
     "name": "stdout",
     "output_type": "stream",
     "text": [
      "Defaulting to user installation because normal site-packages is not writeable\n",
      "Collecting qiskit[visualization]\n",
      "  Downloading qiskit-0.39.4.tar.gz (13 kB)\n",
      "  Preparing metadata (setup.py) ... \u001b[?25ldone\n",
      "\u001b[?25hCollecting qiskit-aer==0.11.2\n",
      "  Downloading qiskit_aer-0.11.2-cp310-cp310-manylinux_2_17_x86_64.manylinux2014_x86_64.whl (12.8 MB)\n",
      "\u001b[2K     \u001b[38;2;114;156;31m━━━━━━━━━━━━━━━━━━━━━━━━━━━━━━━━━━━━━━━━\u001b[0m \u001b[32m12.8/12.8 MB\u001b[0m \u001b[31m22.3 MB/s\u001b[0m eta \u001b[36m0:00:00\u001b[0mm eta \u001b[36m0:00:01\u001b[0m[36m0:00:01\u001b[0m\n",
      "\u001b[?25hCollecting qiskit-ibmq-provider==0.19.2\n",
      "  Using cached qiskit_ibmq_provider-0.19.2-py3-none-any.whl (240 kB)\n",
      "Collecting qiskit-terra==0.22.3\n",
      "  Downloading qiskit_terra-0.22.3-cp310-cp310-manylinux_2_17_x86_64.manylinux2014_x86_64.whl (4.8 MB)\n",
      "\u001b[2K     \u001b[38;2;114;156;31m━━━━━━━━━━━━━━━━━━━━━━━━━━━━━━━━━━━━━━━━\u001b[0m \u001b[32m4.8/4.8 MB\u001b[0m \u001b[31m24.0 MB/s\u001b[0m eta \u001b[36m0:00:00\u001b[0mm eta \u001b[36m0:00:01\u001b[0m[36m0:00:01\u001b[0m\n",
      "\u001b[?25hCollecting ipywidgets>=7.3.0\n",
      "  Downloading ipywidgets-8.0.4-py3-none-any.whl (137 kB)\n",
      "\u001b[2K     \u001b[38;2;114;156;31m━━━━━━━━━━━━━━━━━━━━━━━━━━━━━━━━━━━━━━\u001b[0m \u001b[32m137.8/137.8 KB\u001b[0m \u001b[31m24.5 MB/s\u001b[0m eta \u001b[36m0:00:00\u001b[0m\n",
      "\u001b[?25hRequirement already satisfied: matplotlib>=2.1 in /usr/lib/python3/dist-packages (from qiskit[visualization]) (3.5.1)\n",
      "Requirement already satisfied: pillow>=4.2.1 in /usr/lib/python3/dist-packages (from qiskit[visualization]) (9.0.1)\n",
      "Collecting pydot\n",
      "  Using cached pydot-1.4.2-py2.py3-none-any.whl (21 kB)\n",
      "Requirement already satisfied: pygments>=2.4 in /usr/lib/python3/dist-packages (from qiskit[visualization]) (2.11.2)\n",
      "Collecting pylatexenc>=1.4\n",
      "  Using cached pylatexenc-2.10.tar.gz (162 kB)\n",
      "  Preparing metadata (setup.py) ... \u001b[?25ldone\n",
      "\u001b[?25hCollecting seaborn>=0.9.0\n",
      "  Downloading seaborn-0.12.2-py3-none-any.whl (293 kB)\n",
      "\u001b[2K     \u001b[38;2;114;156;31m━━━━━━━━━━━━━━━━━━━━━━━━━━━━━━━━━━━━━━\u001b[0m \u001b[32m293.3/293.3 KB\u001b[0m \u001b[31m24.9 MB/s\u001b[0m eta \u001b[36m0:00:00\u001b[0m\n",
      "\u001b[?25hRequirement already satisfied: numpy>=1.16.3 in /usr/lib/python3/dist-packages (from qiskit-aer==0.11.2->qiskit[visualization]) (1.21.5)\n",
      "Requirement already satisfied: scipy>=1.0 in /usr/lib/python3/dist-packages (from qiskit-aer==0.11.2->qiskit[visualization]) (1.8.0)\n",
      "Requirement already satisfied: urllib3>=1.21.1 in /usr/lib/python3/dist-packages (from qiskit-ibmq-provider==0.19.2->qiskit[visualization]) (1.26.5)\n",
      "Collecting websocket-client>=1.0.1\n",
      "  Downloading websocket_client-1.4.2-py3-none-any.whl (55 kB)\n",
      "\u001b[2K     \u001b[38;2;114;156;31m━━━━━━━━━━━━━━━━━━━━━━━━━━━━━━━━━━━━━━━━\u001b[0m \u001b[32m55.3/55.3 KB\u001b[0m \u001b[31m7.1 MB/s\u001b[0m eta \u001b[36m0:00:00\u001b[0m\n",
      "\u001b[?25hCollecting requests-ntlm>=1.1.0\n",
      "  Using cached requests_ntlm-1.1.0-py2.py3-none-any.whl (5.7 kB)\n",
      "Requirement already satisfied: python-dateutil>=2.8.0 in /usr/lib/python3/dist-packages (from qiskit-ibmq-provider==0.19.2->qiskit[visualization]) (2.8.1)\n",
      "Collecting websockets>=10.0\n",
      "  Downloading websockets-10.4-cp310-cp310-manylinux_2_5_x86_64.manylinux1_x86_64.manylinux_2_17_x86_64.manylinux2014_x86_64.whl (106 kB)\n",
      "\u001b[2K     \u001b[38;2;114;156;31m━━━━━━━━━━━━━━━━━━━━━━━━━━━━━━━━━━━━━━\u001b[0m \u001b[32m106.8/106.8 KB\u001b[0m \u001b[31m15.4 MB/s\u001b[0m eta \u001b[36m0:00:00\u001b[0m\n",
      "\u001b[?25hRequirement already satisfied: requests>=2.19 in /usr/lib/python3/dist-packages (from qiskit-ibmq-provider==0.19.2->qiskit[visualization]) (2.25.1)\n",
      "Requirement already satisfied: sympy>=1.3 in /usr/lib/python3/dist-packages (from qiskit-terra==0.22.3->qiskit[visualization]) (1.9)\n",
      "Collecting psutil>=5\n",
      "  Downloading psutil-5.9.4-cp36-abi3-manylinux_2_12_x86_64.manylinux2010_x86_64.manylinux_2_17_x86_64.manylinux2014_x86_64.whl (280 kB)\n",
      "\u001b[2K     \u001b[38;2;114;156;31m━━━━━━━━━━━━━━━━━━━━━━━━━━━━━━━━━━━━━━\u001b[0m \u001b[32m280.2/280.2 KB\u001b[0m \u001b[31m17.6 MB/s\u001b[0m eta \u001b[36m0:00:00\u001b[0m\n",
      "\u001b[?25hRequirement already satisfied: ply>=3.10 in /usr/lib/python3/dist-packages (from qiskit-terra==0.22.3->qiskit[visualization]) (3.11)\n",
      "Collecting stevedore>=3.0.0\n",
      "  Downloading stevedore-4.1.1-py3-none-any.whl (50 kB)\n",
      "\u001b[2K     \u001b[38;2;114;156;31m━━━━━━━━━━━━━━━━━━━━━━━━━━━━━━━━━━━━━━━━\u001b[0m \u001b[32m50.0/50.0 KB\u001b[0m \u001b[31m4.6 MB/s\u001b[0m eta \u001b[36m0:00:00\u001b[0m\n",
      "\u001b[?25hCollecting tweedledum<2.0,>=1.1\n",
      "  Downloading tweedledum-1.1.1-cp310-cp310-manylinux_2_12_x86_64.manylinux2010_x86_64.whl (929 kB)\n",
      "\u001b[2K     \u001b[38;2;114;156;31m━━━━━━━━━━━━━━━━━━━━━━━━━━━━━━━━━━━━━━\u001b[0m \u001b[32m929.7/929.7 KB\u001b[0m \u001b[31m29.4 MB/s\u001b[0m eta \u001b[36m0:00:00\u001b[0m\n",
      "\u001b[?25hCollecting retworkx>=0.11.0\n",
      "  Downloading retworkx-0.12.1-py3-none-any.whl (10 kB)\n",
      "Collecting symengine>=0.9\n",
      "  Downloading symengine-0.9.2-cp310-cp310-manylinux2010_x86_64.whl (37.5 MB)\n",
      "\u001b[2K     \u001b[38;2;114;156;31m━━━━━━━━━━━━━━━━━━━━━━━━━━━━━━━━━━━━━━━━\u001b[0m \u001b[32m37.5/37.5 MB\u001b[0m \u001b[31m14.9 MB/s\u001b[0m eta \u001b[36m0:00:00\u001b[0mm eta \u001b[36m0:00:01\u001b[0m[36m0:00:01\u001b[0m\n",
      "\u001b[?25hCollecting dill>=0.3\n",
      "  Downloading dill-0.3.6-py3-none-any.whl (110 kB)\n",
      "\u001b[2K     \u001b[38;2;114;156;31m━━━━━━━━━━━━━━━━━━━━━━━━━━━━━━━━━━━━━━\u001b[0m \u001b[32m110.5/110.5 KB\u001b[0m \u001b[31m12.9 MB/s\u001b[0m eta \u001b[36m0:00:00\u001b[0m\n",
      "\u001b[?25hCollecting widgetsnbextension~=4.0\n",
      "  Downloading widgetsnbextension-4.0.5-py3-none-any.whl (2.0 MB)\n",
      "\u001b[2K     \u001b[38;2;114;156;31m━━━━━━━━━━━━━━━━━━━━━━━━━━━━━━━━━━━━━━━━\u001b[0m \u001b[32m2.0/2.0 MB\u001b[0m \u001b[31m23.1 MB/s\u001b[0m eta \u001b[36m0:00:00\u001b[0mm eta \u001b[36m0:00:01\u001b[0m0:01\u001b[0m\n",
      "\u001b[?25hRequirement already satisfied: traitlets>=4.3.1 in /usr/lib/python3/dist-packages (from ipywidgets>=7.3.0->qiskit[visualization]) (5.1.1)\n",
      "Collecting jupyterlab-widgets~=3.0\n",
      "  Downloading jupyterlab_widgets-3.0.5-py3-none-any.whl (384 kB)\n",
      "\u001b[2K     \u001b[38;2;114;156;31m━━━━━━━━━━━━━━━━━━━━━━━━━━━━━━━━━━━━━━\u001b[0m \u001b[32m384.3/384.3 KB\u001b[0m \u001b[31m14.7 MB/s\u001b[0m eta \u001b[36m0:00:00\u001b[0m\n",
      "\u001b[?25hRequirement already satisfied: ipykernel>=4.5.1 in /usr/lib/python3/dist-packages (from ipywidgets>=7.3.0->qiskit[visualization]) (6.7.0)\n",
      "Requirement already satisfied: ipython>=6.1.0 in /usr/lib/python3/dist-packages (from ipywidgets>=7.3.0->qiskit[visualization]) (7.31.1)\n",
      "Collecting pandas>=0.25\n",
      "  Downloading pandas-1.5.2-cp310-cp310-manylinux_2_17_x86_64.manylinux2014_x86_64.whl (12.1 MB)\n",
      "\u001b[2K     \u001b[38;2;114;156;31m━━━━━━━━━━━━━━━━━━━━━━━━━━━━━━━━━━━━━━━━\u001b[0m \u001b[32m12.1/12.1 MB\u001b[0m \u001b[31m19.8 MB/s\u001b[0m eta \u001b[36m0:00:00\u001b[0mm eta \u001b[36m0:00:01\u001b[0m[36m0:00:01\u001b[0m\n",
      "\u001b[?25hRequirement already satisfied: pyparsing>=2.1.4 in /usr/lib/python3/dist-packages (from pydot->qiskit[visualization]) (2.4.7)\n",
      "Collecting debugpy<2.0,>=1.0.0\n",
      "  Downloading debugpy-1.6.5-cp310-cp310-manylinux_2_17_x86_64.manylinux2014_x86_64.whl (3.0 MB)\n",
      "\u001b[2K     \u001b[38;2;114;156;31m━━━━━━━━━━━━━━━━━━━━━━━━━━━━━━━━━━━━━━━━\u001b[0m \u001b[32m3.0/3.0 MB\u001b[0m \u001b[31m20.0 MB/s\u001b[0m eta \u001b[36m0:00:00\u001b[0mm eta \u001b[36m0:00:01\u001b[0m0:01\u001b[0m:01\u001b[0m\n",
      "\u001b[?25hRequirement already satisfied: pytz>=2020.1 in /usr/lib/python3/dist-packages (from pandas>=0.25->seaborn>=0.9.0->qiskit[visualization]) (2022.1)\n",
      "Collecting ntlm-auth>=1.0.2\n",
      "  Using cached ntlm_auth-1.5.0-py2.py3-none-any.whl (29 kB)\n",
      "Requirement already satisfied: cryptography>=1.3 in /usr/lib/python3/dist-packages (from requests-ntlm>=1.1.0->qiskit-ibmq-provider==0.19.2->qiskit[visualization]) (3.4.8)\n",
      "Collecting rustworkx==0.12.1\n",
      "  Downloading rustworkx-0.12.1-cp310-cp310-manylinux_2_17_x86_64.manylinux2014_x86_64.whl (1.9 MB)\n",
      "\u001b[2K     \u001b[38;2;114;156;31m━━━━━━━━━━━━━━━━━━━━━━━━━━━━━━━━━━━━━━━━\u001b[0m \u001b[32m1.9/1.9 MB\u001b[0m \u001b[31m22.2 MB/s\u001b[0m eta \u001b[36m0:00:00\u001b[0mm eta \u001b[36m0:00:01\u001b[0m0:01\u001b[0m\n",
      "\u001b[?25hCollecting pbr!=2.1.0,>=2.0.0\n",
      "  Downloading pbr-5.11.1-py2.py3-none-any.whl (112 kB)\n",
      "\u001b[2K     \u001b[38;2;114;156;31m━━━━━━━━━━━━━━━━━━━━━━━━━━━━━━━━━━━━━━\u001b[0m \u001b[32m112.7/112.7 KB\u001b[0m \u001b[31m11.1 MB/s\u001b[0m eta \u001b[36m0:00:00\u001b[0m\n",
      "\u001b[?25hBuilding wheels for collected packages: pylatexenc, qiskit\n",
      "  Building wheel for pylatexenc (setup.py) ... \u001b[?25ldone\n",
      "\u001b[?25h  Created wheel for pylatexenc: filename=pylatexenc-2.10-py3-none-any.whl size=136835 sha256=d4df799dfc0270db91b5ddee9f4a733372411a05189554ec1bc518819e177eb8\n",
      "  Stored in directory: /home/alireza/.cache/pip/wheels/d3/31/8b/e09b0386afd80cfc556c00408c9aeea5c35c4d484a9c762fd5\n",
      "  Building wheel for qiskit (setup.py) ... \u001b[?25ldone\n",
      "\u001b[?25h  Created wheel for qiskit: filename=qiskit-0.39.4-py3-none-any.whl size=12278 sha256=c1a10e1e598d1cf201346e45969546b770327c2755ca701c08fcd8da7ea47b56\n",
      "  Stored in directory: /home/alireza/.cache/pip/wheels/28/08/29/220aae9ac5b80d794da3fc742842feaa3d9bbb7dac571c17da\n",
      "Successfully built pylatexenc qiskit\n"
     ]
    },
    {
     "name": "stdout",
     "output_type": "stream",
     "text": [
      "Installing collected packages: pylatexenc, widgetsnbextension, websockets, websocket-client, tweedledum, symengine, rustworkx, pydot, psutil, pbr, pandas, ntlm-auth, jupyterlab-widgets, dill, debugpy, stevedore, seaborn, retworkx, requests-ntlm, qiskit-terra, ipywidgets, qiskit-ibmq-provider, qiskit-aer, qiskit\n",
      "\u001b[33m  WARNING: The scripts latex2text, latexencode and latexwalker are installed in '/home/alireza/.local/bin' which is not on PATH.\n",
      "  Consider adding this directory to PATH or, if you prefer to suppress this warning, use --no-warn-script-location.\u001b[0m\u001b[33m\n",
      "\u001b[0m\u001b[33m  WARNING: The script wsdump is installed in '/home/alireza/.local/bin' which is not on PATH.\n",
      "  Consider adding this directory to PATH or, if you prefer to suppress this warning, use --no-warn-script-location.\u001b[0m\u001b[33m\n",
      "\u001b[0m\u001b[33m  WARNING: The script pbr is installed in '/home/alireza/.local/bin' which is not on PATH.\n",
      "  Consider adding this directory to PATH or, if you prefer to suppress this warning, use --no-warn-script-location.\u001b[0m\u001b[33m\n",
      "\u001b[0mSuccessfully installed debugpy-1.6.5 dill-0.3.6 ipywidgets-8.0.4 jupyterlab-widgets-3.0.5 ntlm-auth-1.5.0 pandas-1.5.2 pbr-5.11.1 psutil-5.9.4 pydot-1.4.2 pylatexenc-2.10 qiskit-0.39.4 qiskit-aer-0.11.2 qiskit-ibmq-provider-0.19.2 qiskit-terra-0.22.3 requests-ntlm-1.1.0 retworkx-0.12.1 rustworkx-0.12.1 seaborn-0.12.2 stevedore-4.1.1 symengine-0.9.2 tweedledum-1.1.1 websocket-client-1.4.2 websockets-10.4 widgetsnbextension-4.0.5\n",
      "Note: you may need to restart the kernel to use updated packages.\n"
     ]
    }
   ],
   "source": [
    "pip install qiskit[visualization]"
   ]
  },
  {
   "cell_type": "markdown",
   "id": "41434723",
   "metadata": {},
   "source": [
    "Since Qiskit textbook is also a good reference that we are using for our learning journey, it is not a bad idea to [install Qiskit textbook.](https://qiskit.org/textbook/ch-prerequisites/setting-the-environment.html)\n",
    "\n",
    "Let's try to install the Qiskit Textbook:"
   ]
  },
  {
   "cell_type": "code",
   "execution_count": 1,
   "id": "31b2675b",
   "metadata": {},
   "outputs": [
    {
     "name": "stdout",
     "output_type": "stream",
     "text": [
      "Defaulting to user installation because normal site-packages is not writeable\n",
      "Collecting git+https://github.com/qiskit-community/qiskit-textbook.git#subdirectory=qiskit-textbook-src\n",
      "  Cloning https://github.com/qiskit-community/qiskit-textbook.git to /tmp/pip-req-build-3w8le_en\n",
      "  Running command git clone --filter=blob:none --quiet https://github.com/qiskit-community/qiskit-textbook.git /tmp/pip-req-build-3w8le_en\n",
      "  Resolved https://github.com/qiskit-community/qiskit-textbook.git to commit 85ba91fef057a425cd2cb7ce58999e9334b75f4c\n",
      "  Preparing metadata (setup.py) ... \u001b[?25ldone\n",
      "\u001b[?25hRequirement already satisfied: ipython in /usr/lib/python3/dist-packages (from qiskit-textbook==0.1.0) (7.31.1)\n",
      "Requirement already satisfied: ipywidgets in /home/alireza/.local/lib/python3.10/site-packages (from qiskit-textbook==0.1.0) (8.0.4)\n",
      "Requirement already satisfied: matplotlib in /usr/lib/python3/dist-packages (from qiskit-textbook==0.1.0) (3.5.1)\n",
      "Collecting numexpr\n",
      "  Downloading numexpr-2.8.4-cp310-cp310-manylinux_2_17_x86_64.manylinux2014_x86_64.whl (381 kB)\n",
      "\u001b[2K     \u001b[38;2;114;156;31m━━━━━━━━━━━━━━━━━━━━━━━━━━━━━━━━━━━━━━━\u001b[0m \u001b[32m381.4/381.4 KB\u001b[0m \u001b[31m3.0 MB/s\u001b[0m eta \u001b[36m0:00:00\u001b[0m MB/s\u001b[0m eta \u001b[36m0:00:01\u001b[0m:01\u001b[0m\n",
      "\u001b[?25hRequirement already satisfied: numpy in /usr/lib/python3/dist-packages (from qiskit-textbook==0.1.0) (1.21.5)\n",
      "Requirement already satisfied: qiskit in /home/alireza/.local/lib/python3.10/site-packages (from qiskit-textbook==0.1.0) (0.39.4)\n",
      "Requirement already satisfied: ipykernel>=4.5.1 in /usr/lib/python3/dist-packages (from ipywidgets->qiskit-textbook==0.1.0) (6.7.0)\n",
      "Requirement already satisfied: widgetsnbextension~=4.0 in /home/alireza/.local/lib/python3.10/site-packages (from ipywidgets->qiskit-textbook==0.1.0) (4.0.5)\n",
      "Requirement already satisfied: jupyterlab-widgets~=3.0 in /home/alireza/.local/lib/python3.10/site-packages (from ipywidgets->qiskit-textbook==0.1.0) (3.0.5)\n",
      "Requirement already satisfied: traitlets>=4.3.1 in /usr/lib/python3/dist-packages (from ipywidgets->qiskit-textbook==0.1.0) (5.1.1)\n",
      "Requirement already satisfied: qiskit-aer==0.11.2 in /home/alireza/.local/lib/python3.10/site-packages (from qiskit->qiskit-textbook==0.1.0) (0.11.2)\n",
      "Requirement already satisfied: qiskit-terra==0.22.3 in /home/alireza/.local/lib/python3.10/site-packages (from qiskit->qiskit-textbook==0.1.0) (0.22.3)\n",
      "Requirement already satisfied: qiskit-ibmq-provider==0.19.2 in /home/alireza/.local/lib/python3.10/site-packages (from qiskit->qiskit-textbook==0.1.0) (0.19.2)\n",
      "Requirement already satisfied: scipy>=1.0 in /usr/lib/python3/dist-packages (from qiskit-aer==0.11.2->qiskit->qiskit-textbook==0.1.0) (1.8.0)\n",
      "Requirement already satisfied: urllib3>=1.21.1 in /usr/lib/python3/dist-packages (from qiskit-ibmq-provider==0.19.2->qiskit->qiskit-textbook==0.1.0) (1.26.5)\n",
      "Requirement already satisfied: requests>=2.19 in /usr/lib/python3/dist-packages (from qiskit-ibmq-provider==0.19.2->qiskit->qiskit-textbook==0.1.0) (2.25.1)\n",
      "Requirement already satisfied: websocket-client>=1.0.1 in /home/alireza/.local/lib/python3.10/site-packages (from qiskit-ibmq-provider==0.19.2->qiskit->qiskit-textbook==0.1.0) (1.4.2)\n",
      "Requirement already satisfied: python-dateutil>=2.8.0 in /usr/lib/python3/dist-packages (from qiskit-ibmq-provider==0.19.2->qiskit->qiskit-textbook==0.1.0) (2.8.1)\n",
      "Requirement already satisfied: requests-ntlm>=1.1.0 in /home/alireza/.local/lib/python3.10/site-packages (from qiskit-ibmq-provider==0.19.2->qiskit->qiskit-textbook==0.1.0) (1.1.0)\n",
      "Requirement already satisfied: websockets>=10.0 in /home/alireza/.local/lib/python3.10/site-packages (from qiskit-ibmq-provider==0.19.2->qiskit->qiskit-textbook==0.1.0) (10.4)\n",
      "Requirement already satisfied: psutil>=5 in /home/alireza/.local/lib/python3.10/site-packages (from qiskit-terra==0.22.3->qiskit->qiskit-textbook==0.1.0) (5.9.4)\n",
      "Requirement already satisfied: dill>=0.3 in /home/alireza/.local/lib/python3.10/site-packages (from qiskit-terra==0.22.3->qiskit->qiskit-textbook==0.1.0) (0.3.6)\n",
      "Requirement already satisfied: sympy>=1.3 in /usr/lib/python3/dist-packages (from qiskit-terra==0.22.3->qiskit->qiskit-textbook==0.1.0) (1.9)\n",
      "Requirement already satisfied: tweedledum<2.0,>=1.1 in /home/alireza/.local/lib/python3.10/site-packages (from qiskit-terra==0.22.3->qiskit->qiskit-textbook==0.1.0) (1.1.1)\n",
      "Requirement already satisfied: symengine>=0.9 in /home/alireza/.local/lib/python3.10/site-packages (from qiskit-terra==0.22.3->qiskit->qiskit-textbook==0.1.0) (0.9.2)\n",
      "Requirement already satisfied: ply>=3.10 in /usr/lib/python3/dist-packages (from qiskit-terra==0.22.3->qiskit->qiskit-textbook==0.1.0) (3.11)\n",
      "Requirement already satisfied: stevedore>=3.0.0 in /home/alireza/.local/lib/python3.10/site-packages (from qiskit-terra==0.22.3->qiskit->qiskit-textbook==0.1.0) (4.1.1)\n",
      "Requirement already satisfied: retworkx>=0.11.0 in /home/alireza/.local/lib/python3.10/site-packages (from qiskit-terra==0.22.3->qiskit->qiskit-textbook==0.1.0) (0.12.1)\n",
      "Requirement already satisfied: debugpy<2.0,>=1.0.0 in /home/alireza/.local/lib/python3.10/site-packages (from ipykernel>=4.5.1->ipywidgets->qiskit-textbook==0.1.0) (1.6.5)\n",
      "Requirement already satisfied: ntlm-auth>=1.0.2 in /home/alireza/.local/lib/python3.10/site-packages (from requests-ntlm>=1.1.0->qiskit-ibmq-provider==0.19.2->qiskit->qiskit-textbook==0.1.0) (1.5.0)\n",
      "Requirement already satisfied: cryptography>=1.3 in /usr/lib/python3/dist-packages (from requests-ntlm>=1.1.0->qiskit-ibmq-provider==0.19.2->qiskit->qiskit-textbook==0.1.0) (3.4.8)\n",
      "Requirement already satisfied: rustworkx==0.12.1 in /home/alireza/.local/lib/python3.10/site-packages (from retworkx>=0.11.0->qiskit-terra==0.22.3->qiskit->qiskit-textbook==0.1.0) (0.12.1)\n",
      "Requirement already satisfied: pbr!=2.1.0,>=2.0.0 in /home/alireza/.local/lib/python3.10/site-packages (from stevedore>=3.0.0->qiskit-terra==0.22.3->qiskit->qiskit-textbook==0.1.0) (5.11.1)\n",
      "Building wheels for collected packages: qiskit-textbook\n",
      "  Building wheel for qiskit-textbook (setup.py) ... \u001b[?25ldone\n",
      "\u001b[?25h  Created wheel for qiskit-textbook: filename=qiskit_textbook-0.1.0-py3-none-any.whl size=17557 sha256=1637155ed0743785ea1f3f64970252aecd6a054ecd129c081210574720f47306\n",
      "  Stored in directory: /tmp/pip-ephem-wheel-cache-ytb0jzr1/wheels/a4/af/1e/358474758f89b7223d73e3a3b05d32a15554fede054868448c\n",
      "Successfully built qiskit-textbook\n",
      "Installing collected packages: numexpr, qiskit-textbook\n",
      "Successfully installed numexpr-2.8.4 qiskit-textbook-0.1.0\n"
     ]
    }
   ],
   "source": [
    "!pip install git+https://github.com/qiskit-community/qiskit-textbook.git#subdirectory=qiskit-textbook-src"
   ]
  },
  {
   "cell_type": "markdown",
   "id": "967cdd0e",
   "metadata": {},
   "source": [
    "There is one other optional step that we can take which helps use to reproduce exact prerendered output as given in Qiskit textbook.\n",
    " I) Setting up default drawer to Matplotlib\n",
    "     The default backend for QuantumCircuit.draw() or qiskit.visualization.\n",
    "     You may want to change these to your liking \n",
    "     Possible options for circuit_drawer are 1st) text 2nd) mpl 3) latex 4) latex_source 5) auto\n",
    "     \n",
    "default value for circuit_drawer = mpl\n",
    "     \n",
    "  II) You can also change the figure format to svg:\n",
    "  * It is being explained in the next tutorial\n",
    "  \n",
    "  III) Syncing the Qiskit versions used in the text book:\n",
    "  * One of the ways to get sure that you can avoid crashes is to get sure about that you have the right version of each package.\n",
    "  You can always check the version of the packages using:\n",
    "  \n",
    "  <font color='teal'>First we need to import the qiskit tools module<font>\n",
    "  \n",
    "  <font color='pink'> import qiskit.tools.jupyter<font>\n",
    "  \n",
    "  <font color='teal'> Ask qiskit to show the versions in a table<font>\n",
    "    \n",
    "  <font color='pink'> %qiskit_version_table<font>    "
   ]
  },
  {
   "cell_type": "code",
   "execution_count": 9,
   "id": "af7cb256",
   "metadata": {},
   "outputs": [
    {
     "data": {
      "text/html": [
       "<h3>Version Information</h3><table><tr><th>Qiskit Software</th><th>Version</th></tr><tr><td><code>qiskit-terra</code></td><td>0.22.3</td></tr><tr><td><code>qiskit-aer</code></td><td>0.11.2</td></tr><tr><td><code>qiskit-ibmq-provider</code></td><td>0.19.2</td></tr><tr><td><code>qiskit</code></td><td>0.39.4</td></tr><tr><th>System information</th></tr><tr><td>Python version</td><td>3.10.6</td></tr><tr><td>Python compiler</td><td>GCC 11.3.0</td></tr><tr><td>Python build</td><td>main, Nov 14 2022 16:10:14</td></tr><tr><td>OS</td><td>Linux</td></tr><tr><td>CPUs</td><td>4</td></tr><tr><td>Memory (Gb)</td><td>15.593582153320312</td></tr><tr><td colspan='2'>Sun Jan 15 17:04:38 2023 EST</td></tr></table>"
      ],
      "text/plain": [
       "<IPython.core.display.HTML object>"
      ]
     },
     "metadata": {},
     "output_type": "display_data"
    }
   ],
   "source": [
    "import qiskit\n",
    "import qiskit.tools.jupyter\n",
    "\n",
    "%qiskit_version_table"
   ]
  },
  {
   "cell_type": "code",
   "execution_count": 17,
   "id": "6c280622",
   "metadata": {},
   "outputs": [
    {
     "data": {
      "text/plain": [
       "{'qiskit-terra': '0.22.3', 'qiskit-aer': '0.11.2', 'qiskit-ignis': None, 'qiskit-ibmq-provider': '0.19.2', 'qiskit': '0.39.4', 'qiskit-nature': None, 'qiskit-finance': None, 'qiskit-optimization': None, 'qiskit-machine-learning': None}"
      ]
     },
     "execution_count": 17,
     "metadata": {},
     "output_type": "execute_result"
    }
   ],
   "source": [
    "# There are other ways to do it too\n",
    "import qiskit\n",
    "#To obtain the simple version number\n",
    "qiskit.__version__\n",
    "\n",
    "#You can also open the detailed version informtion for Qiskit\n",
    "qiskit.__qiskit_version__\n",
    "\n",
    "#While the qiskit.__version__ and qiskit.__qiskit_version__ both seem similar\\\n",
    "#the first one only indericate the version of qiskit-terra package which can be misleading.'"
   ]
  },
  {
   "cell_type": "markdown",
   "id": "5f02e8ca",
   "metadata": {},
   "source": [
    "For jupyter notebook there are a veriety of ther jupyter-specific tools that can be called for version information(They will be discussed in future videos):\n",
    "\n",
    "<font color='teal'>Importing qiskit tools<font>\n",
    "\n",
    "<font color='red'>import </font> <font color='pink'>qiskit.tools.jupyter<font>\n",
    "\n",
    "\n",
    "<font color='teal'>Tabular format of Qiskit version information<font>\n",
    "    \n",
    "<font color='pink'>qiskit_version_table<font>  \n",
    "    \n",
    "<font color='teal'>list of all available backends<font>\n",
    "    \n",
    "<font color='pink'>qiskit_backend_overview<font>  \n",
    "    \n",
    "<font color='teal'>loads a qiskit job watcher<font>\n",
    "    \n",
    "<font color='pink'>qiskit_job_watcher<font>\n",
    "    \n",
    "<font color='teal'>shows a Qiskit progress bar<font>\n",
    "    \n",
    "<font color='pink'>qiskit_progress_bar<font>  "
   ]
  },
  {
   "cell_type": "markdown",
   "id": "84c3b880",
   "metadata": {},
   "source": [
    "Now that we have the environment already set up, let's remind of ourselves of some basics of python programming"
   ]
  },
  {
   "cell_type": "code",
   "execution_count": 18,
   "id": "44f62140",
   "metadata": {},
   "outputs": [
    {
     "name": "stdout",
     "output_type": "stream",
     "text": [
      "Addition: \n",
      "2\n",
      "subtraction: \n",
      "8\n",
      "Mulitplication: \n",
      "340\n",
      "Division: \n",
      "6.366197723675814\n",
      "a+b =13.5\n"
     ]
    }
   ],
   "source": [
    "import numpy as np\n",
    "'''Arithmetic'''\n",
    "print('Addition: ')\n",
    "print(1+1)\n",
    "print('subtraction: ')\n",
    "print(10-2)\n",
    "print('Mulitplication: ')\n",
    "print(20*np.abs(-17))\n",
    "print('Division: ')\n",
    "print(20/np.pi)\n",
    "\n",
    "a=10\n",
    "b=3.5\n",
    "print('a+b ='+str(a+b))\n"
   ]
  },
  {
   "cell_type": "markdown",
   "id": "ce2fabd6",
   "metadata": {},
   "source": [
    "### Order of operations\n",
    "When we are doing arithmetic it is important to keep in mind the order of operations\n",
    "to avoid miscalculations. You can remember the order by remember the abbreviation\n",
    "<font color='Orange'>PEMDAS</font>!\n",
    "\n",
    "From left to right we have higher prioritues for the operation.\n",
    "\n",
    "<font color='Orange'>PEMDAS :<font> \n",
    "    \n",
    "<font color='red'>P : Parentheses<font>\n",
    "    \n",
    "<font color='salmon'>E : Exponents<font>\n",
    "    \n",
    "<font color='Gold'>MD : Mulitply or divide<font>\n",
    "    \n",
    "<font color='hotpink'>AS : Add or Subtract<font> \n",
    "\n",
    "  "
   ]
  },
  {
   "cell_type": "markdown",
   "id": "215cef27",
   "metadata": {},
   "source": [
    "### Variables:\n",
    "\n",
    "Different kind of variables are shown below:\n",
    "\n",
    "1) Integer: Just an integer.\n",
    "2) Float: A non-integer number, up to a fixed precision\n",
    "3) Boolean: A value that can be True or False \n",
    "4) String\n",
    "5) None of the above\n"
   ]
  },
  {
   "cell_type": "code",
   "execution_count": 21,
   "id": "f313c6e5",
   "metadata": {},
   "outputs": [
    {
     "name": "stdout",
     "output_type": "stream",
     "text": [
      "a is an <class 'int'>\n",
      "b is an <class 'float'>\n",
      "c is an <class 'float'>\n",
      "f is an <class 'bool'>\n",
      "g is an <class 'bool'>\n",
      "h is an <class 'str'>\n",
      "i is an <class 'str'>\n",
      "m is an <class 'float'>\n",
      "n is an <class 'int'>\n",
      "j is an <class 'NoneType'>\n"
     ]
    }
   ],
   "source": [
    "# Here we are showing example\n",
    "\n",
    "#Integer:\n",
    "a=42\n",
    "print('a is an '+str(type(a)))\n",
    "\n",
    "# Float\n",
    "b=36.6\n",
    "print('b is an '+str(type(b)))\n",
    "\n",
    "c=42.\n",
    "print('c is an '+str(type(c)))\n",
    "\n",
    "# Boolean\n",
    "f=True\n",
    "print('f is an '+str(type(f)))\n",
    "g=False\n",
    "print('g is an '+str(type(g)))\n",
    "\n",
    "# String\n",
    "h='I am a string!'\n",
    "print('h is an '+str(type(h)))\n",
    "i='42'\n",
    "print('i is an '+str(type(i)))\n",
    "m=float(i)\n",
    "print('m is an '+str(type(m)))\n",
    "n=int(i)\n",
    "print('n is an '+str(type(n)))\n",
    "# None\n",
    "j=None\n",
    "print('j is an '+str(type(j)))\n"
   ]
  },
  {
   "cell_type": "markdown",
   "id": "c8c0207a",
   "metadata": {},
   "source": [
    "### List, tuple and array\n",
    "If you new to python programming, it is important to know the differences berween an array,\n",
    "tuple and list. Knowing the subtle differences helps you to prevent future bugs in your code.\n",
    "\n",
    "#### List:\n",
    "1) The list is an ordered collection of data types.\n",
    "2) List is mutable\n",
    "3) List are dynamic and can contain objects of different data types.\n",
    "4) You cannot do arithmetic operations on a list\n",
    "5) List elements can be accessed by index number"
   ]
  },
  {
   "cell_type": "code",
   "execution_count": 23,
   "id": "79c20381",
   "metadata": {},
   "outputs": [
    {
     "name": "stdout",
     "output_type": "stream",
     "text": [
      "['Publication', 'Dissertation', 'Defense', 'Job', 'Debt']\n",
      "['Defense', 'Job']\n",
      "Healthcare\n",
      "[10.2, 19.6, 9.8, 12, 14]\n",
      "<class 'int'>\n",
      "<class 'float'>\n",
      "[10.2, 19.6, 9.8, 12, 14, 10.2, 19.6, 9.8, 12, 14]\n"
     ]
    },
    {
     "ename": "TypeError",
     "evalue": "can't multiply sequence by non-int of type 'float'",
     "output_type": "error",
     "traceback": [
      "\u001b[0;31m---------------------------------------------------------------------------\u001b[0m",
      "\u001b[0;31mTypeError\u001b[0m                                 Traceback (most recent call last)",
      "\u001b[0;32m/tmp/ipykernel_24940/3005133368.py\u001b[0m in \u001b[0;36m<module>\u001b[0;34m\u001b[0m\n\u001b[1;32m     20\u001b[0m \u001b[0;34m\u001b[0m\u001b[0m\n\u001b[1;32m     21\u001b[0m \u001b[0mprint\u001b[0m\u001b[0;34m(\u001b[0m\u001b[0mlist_float\u001b[0m\u001b[0;34m*\u001b[0m\u001b[0;36m2\u001b[0m\u001b[0;34m)\u001b[0m\u001b[0;34m\u001b[0m\u001b[0;34m\u001b[0m\u001b[0m\n\u001b[0;32m---> 22\u001b[0;31m \u001b[0mlist3\u001b[0m\u001b[0;34m=\u001b[0m\u001b[0mlist_float\u001b[0m\u001b[0;34m*\u001b[0m\u001b[0;36m3.1\u001b[0m\u001b[0;34m\u001b[0m\u001b[0;34m\u001b[0m\u001b[0m\n\u001b[0m\u001b[1;32m     23\u001b[0m \u001b[0mprint\u001b[0m\u001b[0;34m(\u001b[0m\u001b[0mlist3\u001b[0m\u001b[0;34m)\u001b[0m\u001b[0;34m\u001b[0m\u001b[0;34m\u001b[0m\u001b[0m\n",
      "\u001b[0;31mTypeError\u001b[0m: can't multiply sequence by non-int of type 'float'"
     ]
    }
   ],
   "source": [
    "# Python program to demonstrate List\n",
    "list = [\"Publication\", \"Dissertation\", \"Defense\",\"Job\", \"Debt\"]\n",
    "print(list)\n",
    "\n",
    "# we can specify the range of the index by specifying where to start and where to end.\n",
    "print(list[2:4])\n",
    "\n",
    "# we can also change the item in the list by using its index number\n",
    "list[1] = \"Healthcare\"\n",
    "print(list[1])\n",
    "\n",
    "# you can make arithmetic operations on items of the list but not the whole list\n",
    "list_float = [10.2,11.3,9.8,12,14]\n",
    "\n",
    "list_float[1]=list_float[2]*2\n",
    "print (list_float)\n",
    "\n",
    "print(type(list_float[-1]))\n",
    "print(type(list_float[0]))\n",
    "\n",
    "print(list_float*2)\n",
    "list3=list_float*3\n",
    "print(list3)"
   ]
  },
  {
   "cell_type": "markdown",
   "id": "72dae255",
   "metadata": {},
   "source": [
    "#### Array:\n",
    "1) An array is an ordered collection of the similar data types.\n",
    "2) An array is mutable\n",
    "3) An array can be accessed by using its index number\n",
    "4) You can do arithmetic operations on the arrays"
   ]
  },
  {
   "cell_type": "code",
   "execution_count": 35,
   "id": "0a03dd92",
   "metadata": {},
   "outputs": [
    {
     "name": "stdout",
     "output_type": "stream",
     "text": [
      "The new created array is :  1 4 5 \n",
      "The new created array is : [1 4 5]\n",
      "***********************\n",
      "first item on  array b is <class 'numpy.float64'>\n",
      "last item on array b is <class 'numpy.float64'>\n",
      "**********************************\n",
      "first item on  array c is <class 'numpy.str_'>\n",
      "Second item on  array c is <class 'numpy.str_'>\n",
      "3rd item on  array c is <class 'numpy.str_'>\n",
      "Last item on  array c is <class 'numpy.str_'>\n"
     ]
    }
   ],
   "source": [
    "# importing \"array\" for array creations\n",
    "import numpy as np\n",
    "# creating an array with integer type\n",
    "a = np.array([1,4,5,9,10])\n",
    "\n",
    "# printing original array\n",
    "print (\"The new created array is : \", end =\" \")\n",
    "for i in range (0, 3):\n",
    "    print (a[i], end =\" \")\n",
    "\n",
    "\n",
    "#Same principle as above printing, but directly define the range that we want to cut\n",
    "print(\"The new created array is : \"+str(a[0:3]))\n",
    "print(\"***********************\")\n",
    "# What happens when we mix variable types\n",
    "b=np.array([12,10,11.,9.6])\n",
    "print(\"first item on  array b is \"+str(type(b[0])))\n",
    "print(\"last item on array b is \"+str(type(b[-1])))\n",
    "print(\"**********************************\")\n",
    "c=np.array([12,'float',True,12.6])\n",
    "print(\"first item on  array c is \"+str(type(c[0])))\n",
    "print(\"Second item on  array c is \"+str(type(c[1])))\n",
    "print(\"3rd item on  array c is \"+str(type(c[2])))\n",
    "print(\"Last item on  array c is \"+str(type(c[3])))"
   ]
  },
  {
   "cell_type": "markdown",
   "id": "6faaf552",
   "metadata": {},
   "source": [
    "#### Tuple:\n",
    "1) Tuples are immutable and can store any type of data type.\n",
    "2) It is defined using ()\n",
    "3) It cannot be changed or replaced as it is an immutable data type"
   ]
  },
  {
   "cell_type": "code",
   "execution_count": 37,
   "id": "02209726",
   "metadata": {},
   "outputs": [
    {
     "name": "stdout",
     "output_type": "stream",
     "text": [
      "('List', 'Array', 'Tuple')\n",
      "Tuple\n",
      "('List', 'Array')\n"
     ]
    }
   ],
   "source": [
    "tuple = (\"List\",\"Array\",\"Tuple\")\n",
    "print(tuple)\n",
    "\n",
    "# we can access the items in the tuple by its index number\n",
    "print(tuple[2])\n",
    "\n",
    "#we can specify the range of the index by specifying where to start and where to end\n",
    "print(tuple[0:2])"
   ]
  },
  {
   "cell_type": "markdown",
   "id": "562fdd02",
   "metadata": {},
   "source": [
    "#### Functions\n",
    "\n",
    "You can start defining your own functions."
   ]
  },
  {
   "cell_type": "code",
   "execution_count": 24,
   "id": "69149fce",
   "metadata": {},
   "outputs": [
    {
     "data": {
      "image/png": "[encoded data removed]",
      "text/plain": [
       "<Figure size 432x288 with 1 Axes>"
      ]
     },
     "metadata": {
      "needs_background": "light"
     },
     "output_type": "display_data"
    }
   ],
   "source": [
    "# Defining function to plot the import and plot an image\n",
    "%matplotlib inline\n",
    "import matplotlib.pyplot as plt\n",
    "import matplotlib.image as mpimg\n",
    "\n",
    "\n",
    "def imageplotter(drct):\n",
    "    img = mpimg.imread(drct)\n",
    "    plt.imshow(img)\n",
    "\n",
    "\n",
    "drct1='imageexample.png'\n",
    "\n",
    "imageplotter(drct1)\n",
    "\n"
   ]
  },
  {
   "cell_type": "code",
   "execution_count": null,
   "id": "366c7e1a",
   "metadata": {},
   "outputs": [],
   "source": []
  }
 ],
 "metadata": {
  "kernelspec": {
   "display_name": "Python 3 (ipykernel)",
   "language": "python",
   "name": "python3"
  },
  "language_info": {
   "codemirror_mode": {
    "name": "ipython",
    "version": 3
   },
   "file_extension": ".py",
   "mimetype": "text/x-python",
   "name": "python",
   "nbconvert_exporter": "python",
   "pygments_lexer": "ipython3",
   "version": "3.10.6"
  }
 },
 "nbformat": 4,
 "nbformat_minor": 5
}
